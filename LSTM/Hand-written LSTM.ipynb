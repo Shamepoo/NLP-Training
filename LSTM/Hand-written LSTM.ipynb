{
 "cells": [
  {
   "cell_type": "code",
   "execution_count": 14,
   "metadata": {
    "ExecuteTime": {
     "end_time": "2021-04-18T14:56:20.255103Z",
     "start_time": "2021-04-18T14:56:20.247097Z"
    }
   },
   "outputs": [],
   "source": [
    "import math\n",
    "import torch\n",
    "import torch.nn as nn\n",
    "import torch.optim as optim"
   ]
  },
  {
   "cell_type": "code",
   "execution_count": 90,
   "metadata": {
    "ExecuteTime": {
     "end_time": "2021-04-18T16:36:52.757864Z",
     "start_time": "2021-04-18T16:36:52.744688Z"
    }
   },
   "outputs": [],
   "source": [
    "class NaiveCustomLSTM(nn.Module):\n",
    "    def __init__(self, input_sz:int, hidden_sz:int):\n",
    "        super().__init__()\n",
    "        self.input_size = input_sz\n",
    "        self.hidden_size = hidden_sz\n",
    "        self.W = nn.Linear(n_hidden, n_class, bias = False)\n",
    "        self.b = nn.Parameter(torch.Tensor(n_class))\n",
    "        \n",
    "        # input gate\n",
    "        self.U_i = nn.Parameter(torch.Tensor(input_sz,hidden_sz))\n",
    "        self.V_i = nn.Parameter(torch.Tensor(hidden_sz,hidden_sz))\n",
    "        self.b_i = nn.Parameter(torch.Tensor(hidden_sz))\n",
    "        \n",
    "        # forget gate\n",
    "        self.U_f = nn.Parameter(torch.Tensor(input_sz,hidden_sz))\n",
    "        self.V_f = nn.Parameter(torch.Tensor(hidden_sz,hidden_sz))\n",
    "        self.b_f = nn.Parameter(torch.Tensor(hidden_sz))\n",
    "        \n",
    "        # cell state\n",
    "        self.U_c = nn.Parameter(torch.Tensor(input_sz,hidden_sz))\n",
    "        self.V_c = nn.Parameter(torch.Tensor(hidden_sz,hidden_sz))\n",
    "        self.b_c = nn.Parameter(torch.Tensor(hidden_sz))\n",
    "        \n",
    "        # output gate\n",
    "        self.U_o = nn.Parameter(torch.Tensor(input_sz,hidden_sz))\n",
    "        self.V_o = nn.Parameter(torch.Tensor(hidden_sz,hidden_sz))\n",
    "        self.b_o = nn.Parameter(torch.Tensor(hidden_sz))\n",
    "        \n",
    "        self.init_weights()\n",
    "        \n",
    "    def init_weights(self):\n",
    "        stdv = 1.0 / math.sqrt(self.hidden_size)\n",
    "        for w in self.parameters():\n",
    "            w.data.uniform_(-stdv,stdv)\n",
    "            \n",
    "    def forward(self, x, init_states=None):\n",
    "        # the shape of x is: batch_size, sequence_size, input_size\n",
    "        batch_size, sequence_size, input_size = x.size()\n",
    "        hidden_seq = []\n",
    "        \n",
    "        if init_states is None:\n",
    "            h_t, c_t = (\n",
    "                torch.zeros(batch_size,self.hidden_size),\n",
    "                torch.zeros(batch_size,self.hidden_size),\n",
    "            )\n",
    "        else:\n",
    "            h_t, c_t = init_states\n",
    "            \n",
    "        for t in range(sequence_size):\n",
    "            # x_t: batch_size, input_size 10*3\n",
    "            # input sequencely\n",
    "            x_t = x[:,t,:]\n",
    "            \n",
    "            # i,f,o,g,c,h: batch_size, hidden_size\n",
    "            i_t = torch.sigmoid(x_t@self.U_i + h_t@self.V_i + self.b_i)\n",
    "            f_t = torch.sigmoid(x_t@self.U_f + h_t@self.V_f + self.b_f)\n",
    "            o_t = torch.sigmoid(x_t@self.U_o + h_t@self.V_o + self.b_o)\n",
    "            g_t = torch.tanh(x_t@self.U_c + h_t@self.V_c + self.b_c)\n",
    "            c_t = f_t*c_t + i_t*g_t\n",
    "            h_t = o_t*torch.tanh(c_t)\n",
    "            \n",
    "            # save the hidden sequence\n",
    "            hidden_seq.append(h_t.unsqueeze(0))\n",
    "\n",
    "        # connect list to torch\n",
    "        hidden_seq = torch.cat(hidden_seq, dim=0)\n",
    "        hidden_seq = hidden_seq[-1]\n",
    "\n",
    "        # FC layer\n",
    "        model = self.W(hidden_seq) + self.b\n",
    "        return model\n",
    "        "
   ]
  },
  {
   "cell_type": "code",
   "execution_count": 73,
   "metadata": {
    "ExecuteTime": {
     "end_time": "2021-04-18T16:17:18.583661Z",
     "start_time": "2021-04-18T16:17:18.575654Z"
    }
   },
   "outputs": [],
   "source": [
    "n_step = 3 # number of cells(= number of Step)\n",
    "n_hidden = 128 # number of hidden units in one cell\n",
    "\n",
    "char_arr = [c for c in 'abcdefghijklmnopqrstuvwxyz']\n",
    "word_dict = {n: i for i, n in enumerate(char_arr)}\n",
    "number_dict = {i: w for i, w in enumerate(char_arr)}\n",
    "n_class = len(word_dict)  # number of class(=number of vocab)\n",
    "\n",
    "seq_data = ['make', 'need', 'coal', 'word', 'love', 'hate', 'live', 'home', 'hash', 'star']\n",
    "\n",
    "def make_batch():\n",
    "    input_batch, target_batch = [], []\n",
    "\n",
    "    for seq in seq_data:\n",
    "        input = [word_dict[n] for n in seq[:-1]] # 'm', 'a' , 'k' is input\n",
    "        target = word_dict[seq[-1]] # 'e' is target\n",
    "        input_batch.append(np.eye(n_class)[input])\n",
    "        target_batch.append(target)\n",
    "\n",
    "    return input_batch, target_batch"
   ]
  },
  {
   "cell_type": "code",
   "execution_count": 75,
   "metadata": {
    "ExecuteTime": {
     "end_time": "2021-04-18T16:22:29.480693Z",
     "start_time": "2021-04-18T16:22:29.462677Z"
    }
   },
   "outputs": [],
   "source": [
    "input_batch, target_batch = make_batch()\n",
    "input_batch = torch.FloatTensor(input_batch)\n",
    "target_batch = torch.LongTensor(target_batch)"
   ]
  },
  {
   "cell_type": "code",
   "execution_count": 91,
   "metadata": {
    "ExecuteTime": {
     "end_time": "2021-04-18T16:36:56.344569Z",
     "start_time": "2021-04-18T16:36:56.341566Z"
    }
   },
   "outputs": [],
   "source": [
    "model = NaiveCustomLSTM(n_class,n_hidden)"
   ]
  },
  {
   "cell_type": "code",
   "execution_count": 92,
   "metadata": {
    "ExecuteTime": {
     "end_time": "2021-04-18T16:36:56.544598Z",
     "start_time": "2021-04-18T16:36:56.537593Z"
    }
   },
   "outputs": [],
   "source": [
    "criterion = nn.CrossEntropyLoss()\n",
    "optimizer = optim.Adam(model.parameters(), lr=0.001)"
   ]
  },
  {
   "cell_type": "code",
   "execution_count": 93,
   "metadata": {
    "ExecuteTime": {
     "end_time": "2021-04-18T16:37:01.213757Z",
     "start_time": "2021-04-18T16:36:56.980629Z"
    }
   },
   "outputs": [
    {
     "name": "stdout",
     "output_type": "stream",
     "text": [
      "Epoch: 0100 cost = 0.486980\n",
      "Epoch: 0200 cost = 0.030088\n",
      "Epoch: 0300 cost = 0.008809\n",
      "Epoch: 0400 cost = 0.004180\n",
      "Epoch: 0500 cost = 0.002471\n",
      "Epoch: 0600 cost = 0.001644\n",
      "Epoch: 0700 cost = 0.001179\n",
      "Epoch: 0800 cost = 0.000890\n",
      "Epoch: 0900 cost = 0.000698\n",
      "Epoch: 1000 cost = 0.000562\n"
     ]
    }
   ],
   "source": [
    "for epoch in range(1000):\n",
    "    optimizer.zero_grad()\n",
    "\n",
    "    output = model(input_batch)\n",
    "    loss = criterion(output, target_batch)\n",
    "    if (epoch + 1) % 100 == 0:\n",
    "        print('Epoch:', '%04d' % (epoch + 1), 'cost =', '{:.6f}'.format(loss))\n",
    "\n",
    "    loss.backward()\n",
    "    optimizer.step()"
   ]
  },
  {
   "cell_type": "code",
   "execution_count": 94,
   "metadata": {
    "ExecuteTime": {
     "end_time": "2021-04-18T16:37:03.389712Z",
     "start_time": "2021-04-18T16:37:03.383343Z"
    }
   },
   "outputs": [
    {
     "name": "stdout",
     "output_type": "stream",
     "text": [
      "['mak', 'nee', 'coa', 'wor', 'lov', 'hat', 'liv', 'hom', 'has', 'sta'] -> ['e', 'd', 'l', 'd', 'e', 'e', 'e', 'e', 'h', 'r']\n"
     ]
    }
   ],
   "source": [
    "inputs = [sen[:3] for sen in seq_data]\n",
    "\n",
    "predict = model(input_batch).data.max(1, keepdim=True)[1]\n",
    "print(inputs, '->', [number_dict[n.item()] for n in predict.squeeze()])"
   ]
  },
  {
   "cell_type": "code",
   "execution_count": 69,
   "metadata": {
    "ExecuteTime": {
     "end_time": "2021-04-18T16:06:24.142804Z",
     "start_time": "2021-04-18T16:06:24.136799Z"
    }
   },
   "outputs": [
    {
     "data": {
      "text/plain": [
       "torch.Size([10, 26])"
      ]
     },
     "execution_count": 69,
     "metadata": {},
     "output_type": "execute_result"
    }
   ],
   "source": [
    "output.size()"
   ]
  },
  {
   "cell_type": "code",
   "execution_count": null,
   "metadata": {},
   "outputs": [],
   "source": []
  }
 ],
 "metadata": {
  "kernelspec": {
   "display_name": "Python 3",
   "language": "python",
   "name": "python3"
  },
  "language_info": {
   "codemirror_mode": {
    "name": "ipython",
    "version": 3
   },
   "file_extension": ".py",
   "mimetype": "text/x-python",
   "name": "python",
   "nbconvert_exporter": "python",
   "pygments_lexer": "ipython3",
   "version": "3.8.3"
  },
  "toc": {
   "base_numbering": 1,
   "nav_menu": {},
   "number_sections": true,
   "sideBar": true,
   "skip_h1_title": false,
   "title_cell": "Table of Contents",
   "title_sidebar": "Contents",
   "toc_cell": false,
   "toc_position": {},
   "toc_section_display": true,
   "toc_window_display": false
  },
  "varInspector": {
   "cols": {
    "lenName": 16,
    "lenType": 16,
    "lenVar": 40
   },
   "kernels_config": {
    "python": {
     "delete_cmd_postfix": "",
     "delete_cmd_prefix": "del ",
     "library": "var_list.py",
     "varRefreshCmd": "print(var_dic_list())"
    },
    "r": {
     "delete_cmd_postfix": ") ",
     "delete_cmd_prefix": "rm(",
     "library": "var_list.r",
     "varRefreshCmd": "cat(var_dic_list()) "
    }
   },
   "types_to_exclude": [
    "module",
    "function",
    "builtin_function_or_method",
    "instance",
    "_Feature"
   ],
   "window_display": false
  }
 },
 "nbformat": 4,
 "nbformat_minor": 4
}
